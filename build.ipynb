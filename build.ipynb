{
  "cells": [
    {
      "cell_type": "markdown",
      "metadata": {
        "id": "view-in-github",
        "colab_type": "text"
      },
      "source": [
        "<a href=\"https://colab.research.google.com/github/alex2844/padavan-builder/blob/main/build.ipynb\" target=\"_parent\"><img src=\"https://colab.research.google.com/assets/colab-badge.svg\" alt=\"Open In Colab\"/></a>"
      ]
    },
    {
      "cell_type": "code",
      "execution_count": null,
      "metadata": {
        "id": "ArtxeDOaL1VV",
        "cellView": "form"
      },
      "outputs": [],
      "source": [
        "# @title Settings\n",
        "import os\n",
        "import re\n",
        "import requests\n",
        "import zipfile\n",
        "from google.colab import files, drive\n",
        "\n",
        "REPO = 'https://gitlab.com/hadzhioglu/padavan-ng.git' # @param {\"type\":\"string\",\"placeholder\":\" \"}\n",
        "os.environ['PADAVAN_REPO'] = REPO;\n",
        "\n",
        "BRANCH = 'master' # @param {\"type\":\"string\",\"placeholder\":\" \"}\n",
        "os.environ['PADAVAN_BRANCH'] = BRANCH;\n",
        "\n",
        "COMMIT = 'HEAD' # @param {\"type\":\"string\",\"placeholder\":\" \"}\n",
        "os.environ['PADAVAN_COMMIT'] = COMMIT;\n",
        "\n",
        "TOOLCHAIN_URL = 'https://gitlab.com/api/v4/projects/hadzhioglu%2Fpadavan-ng/packages/generic/toolchain/latest/toolchain.tzst' # @param {\"type\":\"string\",\"placeholder\":\" \"}\n",
        "os.environ['PADAVAN_TOOLCHAIN_URL'] = TOOLCHAIN_URL;\n",
        "\n",
        "CONFIG = 'build.config' # @param {\"type\":\"string\",\"placeholder\":\" \"}\n",
        "os.environ['PADAVAN_CONFIG'] = CONFIG;\n",
        "\n",
        "THEMES_REPO = 'https://gitlab.com/hadzhioglu/padavan-themes.git' # @param [\"https://gitlab.com/hadzhioglu/padavan-themes.git\", \"https://gitlab.com/hadzhioglu/padavan-themes-lite.git\"] {allow-input: true}\n",
        "os.environ['PADAVAN_THEMES_REPO'] = THEMES_REPO;\n",
        "\n",
        "THEMES_BRANCH = 'main' # @param {\"type\":\"string\",\"placeholder\":\" \"}\n",
        "os.environ['PADAVAN_THEMES_BRANCH'] = THEMES_BRANCH;\n",
        "\n",
        "THEMES = '' # @param {\"type\":\"string\",\"placeholder\":\" \"}\n",
        "os.environ['PADAVAN_THEMES'] = ' '.join([option.strip() for option in THEMES.split(',')]);\n",
        "\n",
        "ZIP = 'download' # @param [\"download\", \"save\"]\n",
        "\n",
        "if ZIP == 'save' or \"drive/MyDrive/\" in CONFIG:\n",
        "  if not os.path.exists('/content/drive'):\n",
        "    drive.mount('/content/drive');"
      ]
    },
    {
      "cell_type": "code",
      "execution_count": null,
      "metadata": {
        "id": "3mXPYAmJN60K"
      },
      "outputs": [],
      "source": [
        "# @title Configuration build {\"form-width\":\"150px\"}\n",
        "# @markdown [![Templates](https://img.shields.io/badge/Templates-config-red.svg)](https://gitlab.com/hadzhioglu/padavan-ng/-/tree/master/trunk/configs/templates)\n",
        "%%writefile build.config\n"
      ]
    },
    {
      "cell_type": "code",
      "source": [
        "# @title Custom post_build script\n",
        "%%writefile post_build.sh\n",
        "echo '# FROM https://github.com/alex2844/padavan-builder' > \"build.conf\";\n",
        "for v in \"${!PADAVAN_@}\"; do\n",
        "  echo \"${v}=${!v}\" >> \"build.conf\";\n",
        "done\n",
        "echo '' > \"build.env\";\n",
        "for v in \"${!CONFIG_@}\" \"${!FW_@}\"; do\n",
        "  echo \"${v}=${!v}\" >> \"build.env\";\n",
        "done"
      ],
      "metadata": {
        "colab": {
          "base_uri": "https://localhost:8080/"
        },
        "cellView": "form",
        "id": "xlODm4-lQ5We",
        "outputId": "b3008bea-b84b-4e86-c205-d606f34bd703"
      },
      "execution_count": null,
      "outputs": [
        {
          "output_type": "execute_result",
          "data": {
            "text/plain": []
          },
          "metadata": {},
          "execution_count": 12
        }
      ]
    },
    {
      "cell_type": "code",
      "execution_count": null,
      "metadata": {
        "id": "Z3EvkDsCRMOH",
        "cellView": "form"
      },
      "outputs": [],
      "source": [
        "# @title Build firmware\n",
        "%%shell\n",
        "export BUILDER_CLEANUP=false;\n",
        "export BUILDER_RESET=false;\n",
        "wget -qO- https://raw.githubusercontent.com/alex2844/padavan-builder/main/build.sh | bash;"
      ]
    },
    {
      "cell_type": "code",
      "execution_count": null,
      "metadata": {
        "cellView": "form",
        "id": "nxy_6E6tCY3J"
      },
      "outputs": [],
      "source": [
        "# @title Create zip\n",
        "with open('build.env', 'r') as f:\n",
        "  for line in f:\n",
        "    line = line.strip();\n",
        "    if line and '=' in line:\n",
        "      key, value = line.split('=', 1);\n",
        "      os.environ[key] = value;\n",
        "\n",
        "zip = os.environ['CONFIG_VENDOR'] + '_' + os.environ['FW_NAME'] + '.zip';\n",
        "with zipfile.ZipFile(zip, 'w') as zipf:\n",
        "  zipf.write(os.environ['FW_FILE_NAME']);\n",
        "  zipf.write('build.conf');\n",
        "  zipf.write('build.config');"
      ]
    },
    {
      "cell_type": "code",
      "execution_count": null,
      "metadata": {
        "cellView": "form",
        "id": "wYFyrhCrklHd"
      },
      "outputs": [],
      "source": [
        "# @title Download\n",
        "zip = os.environ['CONFIG_VENDOR'] + '_' + os.environ['FW_NAME'] + '.zip';\n",
        "if ZIP == 'download':\n",
        "  files.download(zip);\n",
        "else:\n",
        "  ! mv \"$zip\" \"/content/drive/MyDrive/\";"
      ]
    }
  ],
  "metadata": {
    "colab": {
      "provenance": [],
      "authorship_tag": "ABX9TyMaWtRWM1WmB7y3Nw8z3Oq2",
      "include_colab_link": true
    },
    "kernelspec": {
      "display_name": "Python 3",
      "name": "python3"
    },
    "language_info": {
      "name": "python"
    }
  },
  "nbformat": 4,
  "nbformat_minor": 0
}