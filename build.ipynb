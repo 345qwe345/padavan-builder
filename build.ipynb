{
  "cells": [
    {
      "cell_type": "markdown",
      "metadata": {
        "id": "view-in-github",
        "colab_type": "text"
      },
      "source": [
        "<a href=\"https://colab.research.google.com/github/alex2844/padavan-builder/blob/main/build.ipynb\" target=\"_parent\"><img src=\"https://colab.research.google.com/assets/colab-badge.svg\" alt=\"Open In Colab\"/></a>"
      ]
    },
    {
      "cell_type": "code",
      "execution_count": 11,
      "metadata": {
        "id": "ArtxeDOaL1VV",
        "cellView": "form"
      },
      "outputs": [],
      "source": [
        "# @title Variables\n",
        "import os\n",
        "import re\n",
        "import requests\n",
        "import zipfile\n",
        "from google.colab import files, drive\n",
        "\n",
        "REPO = 'https://gitlab.com/hadzhioglu/padavan-ng.git' # @param {\"type\":\"string\",\"placeholder\":\" \"}\n",
        "os.environ['PADAVAN_REPO'] = REPO\n",
        "\n",
        "BRANCH = 'master' # @param {\"type\":\"string\",\"placeholder\":\" \"}\n",
        "os.environ['PADAVAN_BRANCH'] = BRANCH\n",
        "\n",
        "COMMIT = 'HEAD' # @param {\"type\":\"string\",\"placeholder\":\" \"}\n",
        "os.environ['PADAVAN_COMMIT'] = COMMIT\n",
        "\n",
        "TOOLCHAIN_URL = 'https://gitlab.com/api/v4/projects/hadzhioglu%2Fpadavan-ng/packages/generic/toolchain/latest/toolchain.tzst' # @param {\"type\":\"string\",\"placeholder\":\" \"}\n",
        "os.environ['PADAVAN_TOOLCHAIN_URL'] = TOOLCHAIN_URL\n",
        "\n",
        "CONFIG = 'padavan-ng/trunk/configs/templates/xiaomi/mi-4a_100m.config' # @param {\"type\":\"string\",\"placeholder\":\" \"}\n",
        "os.environ['PADAVAN_CONFIG'] = CONFIG\n",
        "\n",
        "THEMES_REPO = 'https://gitlab.com/hadzhioglu/padavan-themes.git' # @param [\"https://gitlab.com/hadzhioglu/padavan-themes.git\", \"https://gitlab.com/hadzhioglu/padavan-themes-lite.git\"] {allow-input: true}\n",
        "os.environ['PADAVAN_THEMES_REPO'] = THEMES_REPO\n",
        "\n",
        "THEMES_BRANCH = 'main' # @param {\"type\":\"string\",\"placeholder\":\" \"}\n",
        "os.environ['PADAVAN_THEMES_BRANCH'] = THEMES_BRANCH\n",
        "\n",
        "THEMES = '' # @param {\"type\":\"string\",\"placeholder\":\" \"}\n",
        "os.environ['PADAVAN_THEMES'] = ' '.join([option.strip() for option in THEMES.split(',')])\n",
        "\n",
        "ZIP = 'download' # @param [\"download\", \"save\"]\n",
        "\n",
        "if ZIP == 'save' or \"drive/MyDrive/\" in CONFIG:\n",
        "  if not os.path.exists('/content/drive'):\n",
        "    drive.mount('/content/drive')"
      ]
    },
    {
      "cell_type": "code",
      "execution_count": null,
      "metadata": {
        "colab": {
          "base_uri": "https://localhost:8080/"
        },
        "id": "3mXPYAmJN60K",
        "outputId": "a142f71c-45e5-49fd-df7b-1c6bdac5d9d3"
      },
      "outputs": [
        {
          "output_type": "stream",
          "name": "stdout",
          "text": [
            "Writing build.config\n"
          ]
        }
      ],
      "source": [
        "# @title Config {\"form-width\":\"150px\"}\n",
        "# @markdown [![Templates](https://img.shields.io/badge/Templates-config-red.svg)](https://gitlab.com/hadzhioglu/padavan-ng/-/tree/master/trunk/configs/templates)\n",
        "%%writefile build.config\n"
      ]
    },
    {
      "cell_type": "code",
      "source": [
        "# @title Download sources\n",
        "%%shell\n",
        "git config --global --add safe.directory '*'\n",
        "if [[ -n \"$PADAVAN_COMMIT\" ]] && [ \"$PADAVAN_COMMIT\" != \"HEAD\" ]; then\n",
        "  git clone -b \"$PADAVAN_BRANCH\" \"$PADAVAN_REPO\"\n",
        "  git -C padavan-ng checkout \"$PADAVAN_COMMIT\"\n",
        "else\n",
        "  git clone --depth 1 -b \"$PADAVAN_BRANCH\" \"$PADAVAN_REPO\"\n",
        "fi\n",
        "if [[ -n $PADAVAN_THEMES ]]; then\n",
        "  git clone --depth 1 -b \"$PADAVAN_THEMES_BRANCH\" \"$PADAVAN_THEMES_REPO\" themes\n",
        "  cp -r themes/common-theme themes/jquery.js padavan-ng/trunk/user/www/n56u_ribbon_fixed\n",
        "  for theme in ${PADAVAN_THEMES[@]}; do\n",
        "    echo \"Installing $theme theme\"\n",
        "    cp -r \"themes/$theme-theme\" padavan-ng/trunk/user/www/n56u_ribbon_fixed\n",
        "  done\n",
        "fi"
      ],
      "metadata": {
        "colab": {
          "base_uri": "https://localhost:8080/"
        },
        "cellView": "form",
        "id": "xlODm4-lQ5We",
        "outputId": "b3008bea-b84b-4e86-c205-d606f34bd703"
      },
      "execution_count": 12,
      "outputs": [
        {
          "output_type": "execute_result",
          "data": {
            "text/plain": []
          },
          "metadata": {},
          "execution_count": 12
        }
      ]
    },
    {
      "cell_type": "code",
      "source": [
        "# @title Dockerfile to shell script\n",
        "%%writefile dkr2sh.sed\n",
        "#!/bin/sed -f\n",
        "# Convert Dockerfile to shell script.\n",
        "# Copyright 2018, Development Gateway, GPLv3+\n",
        "# Copyright 2022, Dennis Schneidermann, GPLv3+ - modifications noted by \"dss\"\n",
        "\n",
        "# remove pure comment lines to support multi-line RUN statements - added by dss 20220223\n",
        "/^[[:space:]]*#.*/d;\n",
        "\n",
        "# comment out other instructions\n",
        "/^[[:space:]]*\\<\\(FROM\\|CMD\\|LABEL\\|MAINTAINER\\|EXPOSE\\|ENTRYPOINT\\|VOLUME\\|USER\\|ONBUILD\\|STOPSIGNAL\\|HEALTHCHECK\\|SHELL\\)\\>/I s/^[[:space:]]*/# /;\n",
        "\n",
        "# ENV and ARG instructions become export commands - modified to support ARG by dss 20220223\n",
        "s/^[[:space:]]*\\(ENV\\|ARG\\)[[:space:]]\\+\\([^[:space:]]\\+\\)[[:space:]]\\+\\(.\\+\\)/export \\2=\\3/i;\n",
        "\n",
        "# ENV and ARG instructions become export commands (alternate) - added by dss 20220223\n",
        "s/^[[:space:]]*\\(ENV\\|ARG\\)[[:space:]]\\+\\([^[:space:]]\\+\\)=\\(.\\+\\)/export \\2=\\3/i;\n",
        "\n",
        "# comment out any unparsable ENV or ARG instructions - added by dss 20220223\n",
        "/^[[:space:]]*\\<\\(ENV\\|ARG\\)\\>/I s/^[[:space:]]*/# (no value assigned) /;\n",
        "\n",
        "# RUN get executed literally, including line wraps\n",
        "s/^[[:space:]]*RUN[[:space:]]\\+//i;\n",
        "\n",
        "# COPY behaves differently on files and directories\n",
        "# with a \"--from\" argument\n",
        "s/^[[:space:]]*COPY\\([[:space:]]\\+--from=[^[:space:]]\\+\\)\\(\\([[:space:]]\\+[^[:space:]]\\+\\)\\+\\)\\([[:space:]]\\+[^[:space:]]\\+\\)[[:space:]]*/for i in\\2; do\\n\\ttest -d \"$i\" \\&\\& i=\"$i\\/\"\\n\\trsync -a \"$i\"\\4 #\\1\\ndone/i\n",
        "# without \"--from\" argument\n",
        "s/^[[:space:]]*COPY\\(\\([[:space:]]\\+[^[:space:]]\\+\\)\\+\\)\\([[:space:]]\\+[^[:space:]]\\+\\)[[:space:]]*/for i in\\1; do\\n\\ttest -d \"$i\" \\&\\& i=\"$i\\/\"\\n\\trsync -a \"$i\"\\3\\ndone/i\n",
        "\n",
        "# ADD\n",
        "s/^[[:space:]]*ADD\\(\\([[:space:]]\\+[^[:space:]]\\+\\)\\+\\)[[:space:]]\\+\\([^[:space:]]\\+\\)[[:space:]]*/if echo \"\\3\" | grep -q '\\/$'; then\\n\\tmkdir -p \"\\3\";\\nelse\\n\\tmkdir -p \"$(dirname \"\\3\")\";\\nfi\\n\\nfor i in\\1; do\\n\\tif echo \"$i\" | grep -q '^\\\\(https\\\\?\\\\|ftp\\\\):\\/\\/'; then\\n\\t\\tif echo \"\\3\" | grep -q '\\/$'; then\\n\\t\\t\\t(cd \"\\3\" \\&\\& wget -q \"$i\");\\n\\t\\telse\\n\\t\\t\\twget -q -O \"\\3\" \"$i\";\\n\\t\\tfi\\n\\telif test -d \"$i\"; then\\n\\t\\trsync -a \"$i\\/\" \"\\3\";\\n\\telif tar -tf \"$i\" >\\/dev\\/null 2>\\&1; then\\n\\t\\tmkdir -p \"\\3\" \\&\\& tar -C \"\\3\" -xf \"$i\";\\n\\telse\\n\\t\\trsync -a \"$i\" \"\\3\";\\n\\tfi\\ndone/i\n",
        "\n",
        "# imitate WORKDIR behavior\n",
        "s/^[[:space:]]*WORKDIR[[:space:]]\\+\\(.\\+\\)/mkdir -p \\1 \\&\\& cd \\1/i"
      ],
      "metadata": {
        "cellView": "form",
        "id": "hJPdNff2QHLG",
        "colab": {
          "base_uri": "https://localhost:8080/"
        },
        "outputId": "babe1f89-c809-4071-db9a-2676a9608915"
      },
      "execution_count": null,
      "outputs": [
        {
          "output_type": "stream",
          "name": "stdout",
          "text": [
            "Writing dkr2sh.sed\n"
          ]
        }
      ]
    },
    {
      "cell_type": "code",
      "execution_count": null,
      "metadata": {
        "id": "MkOZDf36po6_",
        "cellView": "form"
      },
      "outputs": [],
      "source": [
        "# @title Dependencies\n",
        "%%shell\n",
        "chmod +x dkr2sh.sed\n",
        "./dkr2sh.sed < padavan-ng/Dockerfile > Dockerfile.sh\n",
        "chmod +x Dockerfile.sh\n",
        "./Dockerfile.sh"
      ]
    },
    {
      "cell_type": "code",
      "execution_count": null,
      "metadata": {
        "id": "AGZZbI_wqWd8",
        "colab": {
          "base_uri": "https://localhost:8080/"
        },
        "outputId": "76422e56-94d3-47ec-934b-d1eeceab4fb2",
        "cellView": "form"
      },
      "outputs": [
        {
          "output_type": "execute_result",
          "data": {
            "text/plain": []
          },
          "metadata": {},
          "execution_count": 7
        }
      ],
      "source": [
        "# @title Download toolchain\n",
        "%%shell\n",
        "wget -qO- \"$PADAVAN_TOOLCHAIN_URL\" | tar -C padavan-ng --zstd -xf -"
      ]
    },
    {
      "cell_type": "code",
      "execution_count": null,
      "metadata": {
        "cellView": "form",
        "id": "72dWQF6XF0RE"
      },
      "outputs": [],
      "source": [
        "# @title Get config\n",
        "PADAVAN_CONFIG = os.environ['PADAVAN_CONFIG']\n",
        "if PADAVAN_CONFIG and PADAVAN_CONFIG != \"build.config\":\n",
        "  regex = re.compile(r'^(https?|ftp|file)://', re.IGNORECASE)\n",
        "  if re.match(regex, PADAVAN_CONFIG):\n",
        "    response = requests.get(PADAVAN_CONFIG)\n",
        "    response.raise_for_status()\n",
        "    with open('build.config', 'wb') as f:\n",
        "      f.write(response.content)\n",
        "  else:\n",
        "    ! cp \"$PADAVAN_CONFIG\" build.config\n",
        "\n",
        "with open('build.config', 'r') as f:\n",
        "  for line in f:\n",
        "    line = line.strip()\n",
        "    if line and '=' in line and not line.startswith('#'):\n",
        "      key, value = line.split('=', 1)\n",
        "      if value.startswith(('\"', \"'\")) and value.endswith(('\"', \"'\")):\n",
        "        value = value[1:-1]\n",
        "      os.environ[key] = value"
      ]
    },
    {
      "cell_type": "code",
      "execution_count": null,
      "metadata": {
        "id": "Z3EvkDsCRMOH",
        "cellView": "form"
      },
      "outputs": [],
      "source": [
        "# @title Build firmware\n",
        "%%shell\n",
        "cp build.config padavan-ng/trunk/.config\n",
        "cd padavan-ng/trunk\n",
        "./build_firmware.sh"
      ]
    },
    {
      "cell_type": "code",
      "execution_count": null,
      "metadata": {
        "cellView": "form",
        "id": "zKDl6QN9ut0_"
      },
      "outputs": [],
      "source": [
        "# @title Prepare zip\n",
        "%%bash\n",
        "FW_FILE_NAME=\"$(find padavan-ng/trunk/images -type f -regextype posix-extended -iregex \".*\\.(trx|bin)$\" -printf \"%T@\\t%f\\n\" | sort -V | tail -1 | cut -f2)\"\n",
        "echo \"FW_FILE_NAME=$FW_FILE_NAME\" > build.fw\n",
        "echo \"FW_NAME=${FW_FILE_NAME%.*}\" >> build.fw\n",
        "mv \"padavan-ng/trunk/images/$FW_FILE_NAME\" ."
      ]
    },
    {
      "cell_type": "code",
      "execution_count": null,
      "metadata": {
        "cellView": "form",
        "id": "nxy_6E6tCY3J"
      },
      "outputs": [],
      "source": [
        "# @title Create zip\n",
        "with open('build.fw', 'r') as f:\n",
        "  for line in f:\n",
        "    line = line.strip()\n",
        "    if line and '=' in line:\n",
        "      key, value = line.split('=', 1)\n",
        "      os.environ[key] = value\n",
        "\n",
        "zip = os.environ['CONFIG_VENDOR'] + '_' + os.environ['FW_NAME'] + '.zip';\n",
        "with zipfile.ZipFile(zip, 'w') as zipf:\n",
        "  zipf.write(os.environ['FW_FILE_NAME'])\n",
        "  zipf.write('build.config')"
      ]
    },
    {
      "cell_type": "code",
      "execution_count": null,
      "metadata": {
        "id": "jxVpNIBPFzZI",
        "cellView": "form"
      },
      "outputs": [],
      "source": [
        "# @title Check firmware size\n",
        "%%bash\n",
        "partitions=padavan-ng/trunk/configs/boards/$CONFIG_VENDOR/$CONFIG_FIRMWARE_PRODUCT_ID/partitions.config\n",
        "max_fw_size=\"$(awk '/Firmware/ { getline; getline; sub(\",\", \"\"); print strtonum($2); }' \"$partitions\")\"\n",
        "fw_size=\"$(stat -c %s \"$FW_FILE_NAME\")\"\n",
        "if ((fw_size > max_fw_size)); then\n",
        "  fw_size_fmtd=\"$(numfmt --grouping \"$fw_size\") bytes\"\n",
        "  max_fw_size_fmtd=\"$(numfmt --grouping \"$max_fw_size\") bytes\"\n",
        "  echo \"Firmware size ($fw_size_fmtd) exceeds max size ($max_fw_size_fmtd) for your target device\"\n",
        "  exit 1\n",
        "fi"
      ]
    },
    {
      "cell_type": "code",
      "execution_count": null,
      "metadata": {
        "cellView": "form",
        "id": "wYFyrhCrklHd"
      },
      "outputs": [],
      "source": [
        "# @title Download\n",
        "zip = os.environ['CONFIG_VENDOR'] + '_' + os.environ['FW_NAME'] + '.zip';\n",
        "if ZIP == 'download':\n",
        "  files.download(zip)\n",
        "else:\n",
        "  ! mv \"$zip\" \"/content/drive/MyDrive/\""
      ]
    }
  ],
  "metadata": {
    "colab": {
      "provenance": [],
      "authorship_tag": "ABX9TyMirVMC8BrfUbd7Pp7ScjWz",
      "include_colab_link": true
    },
    "kernelspec": {
      "display_name": "Python 3",
      "name": "python3"
    },
    "language_info": {
      "name": "python"
    }
  },
  "nbformat": 4,
  "nbformat_minor": 0
}